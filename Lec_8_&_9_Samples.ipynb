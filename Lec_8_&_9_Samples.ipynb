{
  "nbformat": 4,
  "nbformat_minor": 0,
  "metadata": {
    "colab": {
      "provenance": [],
      "toc_visible": true,
      "authorship_tag": "ABX9TyOz6T20zJXmYS4GMNkjZi/F",
      "include_colab_link": true
    },
    "kernelspec": {
      "name": "python3",
      "display_name": "Python 3"
    },
    "language_info": {
      "name": "python"
    }
  },
  "cells": [
    {
      "cell_type": "markdown",
      "metadata": {
        "id": "view-in-github",
        "colab_type": "text"
      },
      "source": [
        "<a href=\"https://colab.research.google.com/github/ericaerin/GE120/blob/main/Lec_8_%26_9_Samples.ipynb\" target=\"_parent\"><img src=\"https://colab.research.google.com/assets/colab-badge.svg\" alt=\"Open In Colab\"/></a>"
      ]
    },
    {
      "cell_type": "markdown",
      "source": [
        "# Lecture 8"
      ],
      "metadata": {
        "id": "_NLfnsdhHgbB"
      }
    },
    {
      "cell_type": "markdown",
      "source": [
        "## Persons"
      ],
      "metadata": {
        "id": "ivYmfDgqIKae"
      }
    },
    {
      "cell_type": "code",
      "source": [
        "class Persons:\n",
        "    def __init__(self):\n",
        "        self._name = \"\"\n",
        "        self._age = 0\n",
        "\n",
        "    @property\n",
        "    def name(self):\n",
        "        return self._name\n",
        "\n",
        "    @name.setter\n",
        "    def name(self, value):\n",
        "        self._name = value\n",
        "\n",
        "    @property\n",
        "    def age(self):\n",
        "        return self._age"
      ],
      "metadata": {
        "id": "9HKIw2pi9jVu"
      },
      "execution_count": null,
      "outputs": []
    },
    {
      "cell_type": "code",
      "source": [
        "harry = Persons()"
      ],
      "metadata": {
        "id": "Mj76SqHGgBuO"
      },
      "execution_count": null,
      "outputs": []
    },
    {
      "cell_type": "code",
      "source": [
        "harry.name = \"harry\""
      ],
      "metadata": {
        "id": "UpO0ExtfgFl7"
      },
      "execution_count": null,
      "outputs": []
    },
    {
      "cell_type": "code",
      "source": [
        "print(harry.name)"
      ],
      "metadata": {
        "id": "Xt8w0nZhgLIi",
        "colab": {
          "base_uri": "https://localhost:8080/"
        },
        "outputId": "320f2f9a-dc0d-494b-cebf-e940d09c6c29"
      },
      "execution_count": null,
      "outputs": [
        {
          "output_type": "stream",
          "name": "stdout",
          "text": [
            "harry\n"
          ]
        }
      ]
    },
    {
      "cell_type": "code",
      "source": [
        "harry.age = 24"
      ],
      "metadata": {
        "colab": {
          "base_uri": "https://localhost:8080/",
          "height": 141
        },
        "id": "92yl-cENEI0r",
        "outputId": "b81e2bad-b2ae-402d-edcd-2e606296f3e1"
      },
      "execution_count": null,
      "outputs": [
        {
          "output_type": "error",
          "ename": "AttributeError",
          "evalue": "can't set attribute 'age'",
          "traceback": [
            "\u001b[0;31m---------------------------------------------------------------------------\u001b[0m",
            "\u001b[0;31mAttributeError\u001b[0m                            Traceback (most recent call last)",
            "\u001b[0;32m<ipython-input-20-6a68cf44281a>\u001b[0m in \u001b[0;36m<cell line: 1>\u001b[0;34m()\u001b[0m\n\u001b[0;32m----> 1\u001b[0;31m \u001b[0mharry\u001b[0m\u001b[0;34m.\u001b[0m\u001b[0mage\u001b[0m \u001b[0;34m=\u001b[0m \u001b[0;36m24\u001b[0m\u001b[0;34m\u001b[0m\u001b[0;34m\u001b[0m\u001b[0m\n\u001b[0m",
            "\u001b[0;31mAttributeError\u001b[0m: can't set attribute 'age'"
          ]
        }
      ]
    },
    {
      "cell_type": "markdown",
      "source": [
        "## get/set and decorators"
      ],
      "metadata": {
        "id": "izMf9WbDIM9u"
      }
    },
    {
      "cell_type": "code",
      "source": [
        "class Person:\n",
        "  def __init__(self, name_string, age_int, salary_float):\n",
        "    self.name = name_string\n",
        "    self._age = age_int\n",
        "    self.setSalary(salary_float)\n",
        "\n",
        "  def getSalary(self):\n",
        "    if self._salary < 10000:\n",
        "      return \"{}'s salary is less than 10,000.\".format(self.name)\n",
        "    elif self._salary >= 10000 and self._salary <= 25000:\n",
        "      return \"{}'s salary is in the range 10,000 to 25,000.\".format(self.name)\n",
        "    else:\n",
        "      return \"{}'s salary is greater than 25,000.\".format(self.name)\n",
        "\n",
        "  def setSalary(self, new_salary):\n",
        "    self._salary = new_salary"
      ],
      "metadata": {
        "id": "iPmSq3sWwVTt"
      },
      "execution_count": null,
      "outputs": []
    },
    {
      "cell_type": "code",
      "source": [
        "class Person_v2:\n",
        "  def __init__(self, name_string, age_int, salary_float):\n",
        "    self.name = name_string\n",
        "    self._age = age_int\n",
        "    self._salary = salary_float\n",
        "\n",
        "  @property\n",
        "  def salary(self):\n",
        "    if self._salary < 10000:\n",
        "      return \"{}'s salary is less than 10,000.\".format(self.name)\n",
        "    elif self._salary >= 10000 and self._salary <= 25000:\n",
        "      return \"{}'s salary is in the range 10,000 to 25,000.\".format(self.name)\n",
        "    else:\n",
        "      return \"{}'s salary is greater than 25,000.\".format(self.name)\n",
        "\n",
        "  @salary.setter\n",
        "  def salary(self, new_salary):\n",
        "    self._salary = new_salary"
      ],
      "metadata": {
        "id": "pek31PvnX0dX"
      },
      "execution_count": null,
      "outputs": []
    },
    {
      "cell_type": "code",
      "source": [
        "berto = Person(\"Berto\", 25, 15760.89)\n",
        "print(berto.getSalary())\n",
        "berto.setSalary(27800.65)\n",
        "print(berto.getSalary())"
      ],
      "metadata": {
        "colab": {
          "base_uri": "https://localhost:8080/"
        },
        "id": "GRcgdBl_fI-w",
        "outputId": "974a3d31-f40a-4d24-aeab-a133867d4eda"
      },
      "execution_count": null,
      "outputs": [
        {
          "output_type": "stream",
          "name": "stdout",
          "text": [
            "Berto's salary is in the range 10,000 to 25,000.\n",
            "Berto's salary is greater than 25,000.\n"
          ]
        }
      ]
    },
    {
      "cell_type": "code",
      "source": [
        "berto_v2 = Person_v2(\"Berto\", 25, 15760.89)\n",
        "print(berto_v2.salary)\n",
        "berto_v2.salary = 27800.65\n",
        "print(berto_v2.salary)"
      ],
      "metadata": {
        "colab": {
          "base_uri": "https://localhost:8080/"
        },
        "id": "R8Fv-cVOfLJM",
        "outputId": "418ba027-78f6-44a2-9559-08592d5103ab"
      },
      "execution_count": null,
      "outputs": [
        {
          "output_type": "stream",
          "name": "stdout",
          "text": [
            "Berto's salary is in the range 10,000 to 25,000.\n",
            "Berto's salary is greater than 25,000.\n"
          ]
        }
      ]
    },
    {
      "cell_type": "markdown",
      "source": [
        "# Lecture 9"
      ],
      "metadata": {
        "id": "vW-SmkbSHkU8"
      }
    },
    {
      "cell_type": "markdown",
      "source": [
        "## Point and ControlPoint Class"
      ],
      "metadata": {
        "id": "PUj5JSCth240"
      }
    },
    {
      "cell_type": "code",
      "execution_count": null,
      "metadata": {
        "id": "YLX9PBu_hwT7"
      },
      "outputs": [],
      "source": [
        "class Point:\n",
        "  '''\n",
        "  Represents a 2D point, given the x and y coordinates.\n",
        "\n",
        "  Attributes\n",
        "  ------------\n",
        "  x (float) : x-coordinate\n",
        "  y (float) : y-coordinate\n",
        "  '''\n",
        "  def __init__(self, x, y):\n",
        "    '''\n",
        "    <docstrings>\n",
        "    '''\n",
        "    #check x and y values\n",
        "    try:\n",
        "      self.x = float(x)\n",
        "      self.y = float(y)\n",
        "    except:\n",
        "      print(\"Please use numbers as coordinates.\")"
      ]
    },
    {
      "cell_type": "code",
      "source": [
        "class ControlPoint(Point):\n",
        "  def __init__(self, x, y, name, accuracy):\n",
        "    Point.__init__(self, x, y)\n",
        "    self.name = name\n",
        "    self.__accuracy = accuracy\n",
        "\n",
        "  def getAcc(self):\n",
        "    return self.__accuracy\n",
        "\n",
        "  def setAcc(self, attempt):\n",
        "    raise ValueError(\"You cannot change the accuracy of this Control Point.\")"
      ],
      "metadata": {
        "id": "lb44bXwMh_zg"
      },
      "execution_count": null,
      "outputs": []
    },
    {
      "cell_type": "code",
      "source": [
        "cp = ControlPoint(2,3,\"CP1\",\"tertiary\")"
      ],
      "metadata": {
        "id": "D4Ur-t-Uistv"
      },
      "execution_count": null,
      "outputs": []
    },
    {
      "cell_type": "code",
      "source": [
        "cp.setAcc(\"primary\")"
      ],
      "metadata": {
        "colab": {
          "base_uri": "https://localhost:8080/",
          "height": 253
        },
        "id": "6pdNQrfgi1S-",
        "outputId": "6925aa03-856f-4124-c2cd-831e9ead1dd7"
      },
      "execution_count": null,
      "outputs": [
        {
          "output_type": "error",
          "ename": "ValueError",
          "evalue": "ignored",
          "traceback": [
            "\u001b[0;31m---------------------------------------------------------------------------\u001b[0m",
            "\u001b[0;31mValueError\u001b[0m                                Traceback (most recent call last)",
            "\u001b[0;32m<ipython-input-5-89e0cee7fbcc>\u001b[0m in \u001b[0;36m<cell line: 1>\u001b[0;34m()\u001b[0m\n\u001b[0;32m----> 1\u001b[0;31m \u001b[0mcp\u001b[0m\u001b[0;34m.\u001b[0m\u001b[0msetAcc\u001b[0m\u001b[0;34m(\u001b[0m\u001b[0;34m\"primary\"\u001b[0m\u001b[0;34m)\u001b[0m\u001b[0;34m\u001b[0m\u001b[0;34m\u001b[0m\u001b[0m\n\u001b[0m",
            "\u001b[0;32m<ipython-input-3-be17357ebdce>\u001b[0m in \u001b[0;36msetAcc\u001b[0;34m(self, attempt)\u001b[0m\n\u001b[1;32m      9\u001b[0m \u001b[0;34m\u001b[0m\u001b[0m\n\u001b[1;32m     10\u001b[0m   \u001b[0;32mdef\u001b[0m \u001b[0msetAcc\u001b[0m\u001b[0;34m(\u001b[0m\u001b[0mself\u001b[0m\u001b[0;34m,\u001b[0m \u001b[0mattempt\u001b[0m\u001b[0;34m)\u001b[0m\u001b[0;34m:\u001b[0m\u001b[0;34m\u001b[0m\u001b[0;34m\u001b[0m\u001b[0m\n\u001b[0;32m---> 11\u001b[0;31m     \u001b[0;32mraise\u001b[0m \u001b[0mValueError\u001b[0m\u001b[0;34m(\u001b[0m\u001b[0;34m\"You cannot change the accuracy of this Control Point.\"\u001b[0m\u001b[0;34m)\u001b[0m\u001b[0;34m\u001b[0m\u001b[0;34m\u001b[0m\u001b[0m\n\u001b[0m",
            "\u001b[0;31mValueError\u001b[0m: You cannot change the accuracy of this Control Point."
          ]
        }
      ]
    },
    {
      "cell_type": "code",
      "source": [
        "cp.getAcc()"
      ],
      "metadata": {
        "colab": {
          "base_uri": "https://localhost:8080/",
          "height": 35
        },
        "id": "gKa-EuOUi3Xu",
        "outputId": "a67bca52-c07c-4aa5-c510-899c1d3156a0"
      },
      "execution_count": null,
      "outputs": [
        {
          "output_type": "execute_result",
          "data": {
            "text/plain": [
              "'tertiary'"
            ],
            "application/vnd.google.colaboratory.intrinsic+json": {
              "type": "string"
            }
          },
          "metadata": {},
          "execution_count": 6
        }
      ]
    },
    {
      "cell_type": "markdown",
      "source": [
        "## Shapes"
      ],
      "metadata": {
        "id": "6XPmyClVH5ZQ"
      }
    },
    {
      "cell_type": "code",
      "source": [
        "class Shape:\n",
        "  def __init__(self, name):\n",
        "    try:\n",
        "      assert(type(name)==str)\n",
        "    except AssertionError:\n",
        "      print(\"Please input the name in string type.\")\n",
        "    else:\n",
        "      self.name = name\n",
        "\n",
        "  def getArea(self):\n",
        "    return \"You do not have dimensions yet.\""
      ],
      "metadata": {
        "id": "2-Xe9V622_xf"
      },
      "execution_count": null,
      "outputs": []
    },
    {
      "cell_type": "code",
      "source": [
        "class Triangle(Shape):\n",
        "  def __init__(self, name, base, height):\n",
        "    Shape.__init__(self, name)\n",
        "\n",
        "    #check for base and height values\n",
        "\n",
        "    self.base = base\n",
        "    self.height = height\n",
        "\n",
        "  def getArea(self):\n",
        "    return 0.5*self.base*self.height"
      ],
      "metadata": {
        "id": "pOkK6zdR3PVd"
      },
      "execution_count": null,
      "outputs": []
    },
    {
      "cell_type": "code",
      "source": [
        "class Circle(Shape):\n",
        "  def __init__(self, name, radius):\n",
        "    Shape.__init__(self, name)\n",
        "    self.radius = radius\n",
        "  def getArea(self):\n",
        "    return 3.1416*(self.radius**2)"
      ],
      "metadata": {
        "id": "orNCGbk33hzv"
      },
      "execution_count": null,
      "outputs": []
    },
    {
      "cell_type": "code",
      "source": [
        "class Rectangle(Triangle):\n",
        "  def getArea(self):\n",
        "    return self.base*self.height"
      ],
      "metadata": {
        "id": "YFtZM9exjDoc"
      },
      "execution_count": null,
      "outputs": []
    },
    {
      "cell_type": "code",
      "source": [
        "class Square(Shape):\n",
        "  def __init__(self, name, side):\n",
        "    Shape.__init__(self, name)\n",
        "    self.side = side\n",
        "  def getArea(self):\n",
        "    return self.side**2"
      ],
      "metadata": {
        "id": "LM1ZnAe5jadr"
      },
      "execution_count": null,
      "outputs": []
    },
    {
      "cell_type": "code",
      "source": [
        "rect = Rectangle(\"rectangle\", 5, 6)\n",
        "print(rect.getArea())"
      ],
      "metadata": {
        "colab": {
          "base_uri": "https://localhost:8080/"
        },
        "id": "aYKDKFOgj7Wn",
        "outputId": "9c05bf44-1ee8-48f0-881b-747ae0275308"
      },
      "execution_count": null,
      "outputs": [
        {
          "output_type": "stream",
          "name": "stdout",
          "text": [
            "30\n"
          ]
        }
      ]
    },
    {
      "cell_type": "code",
      "source": [
        "square = Square(\"square\", 4)\n",
        "print(square.getArea())"
      ],
      "metadata": {
        "colab": {
          "base_uri": "https://localhost:8080/"
        },
        "id": "HmDWBHAKkDTV",
        "outputId": "5b2846e2-8b15-4771-dd06-5e915d0e08a2"
      },
      "execution_count": null,
      "outputs": [
        {
          "output_type": "stream",
          "name": "stdout",
          "text": [
            "16\n"
          ]
        }
      ]
    },
    {
      "cell_type": "markdown",
      "source": [
        "## Composition"
      ],
      "metadata": {
        "id": "aEqcOynPIBWY"
      }
    },
    {
      "cell_type": "code",
      "source": [
        "class Eyes():\n",
        "  def __init__(self):\n",
        "    self.color = 'brown'\n",
        "\n",
        "class Human(): #you can also use parenthesis in class definition even without inheritance\n",
        "  def __init__(self):\n",
        "    self.eyes = Eyes()"
      ],
      "metadata": {
        "id": "k2iZkopKmHYn"
      },
      "execution_count": null,
      "outputs": []
    },
    {
      "cell_type": "code",
      "source": [
        "tao = Human()\n",
        "tao.eyes"
      ],
      "metadata": {
        "colab": {
          "base_uri": "https://localhost:8080/"
        },
        "id": "osh2TlD_mHTc",
        "outputId": "79f9f2bc-02ec-4582-e37c-b771e8996aca"
      },
      "execution_count": null,
      "outputs": [
        {
          "output_type": "execute_result",
          "data": {
            "text/plain": [
              "<__main__.Eyes at 0x7ba8b993e260>"
            ]
          },
          "metadata": {},
          "execution_count": 28
        }
      ]
    },
    {
      "cell_type": "code",
      "source": [
        "del tao"
      ],
      "metadata": {
        "id": "MGaqjY74mwr8"
      },
      "execution_count": null,
      "outputs": []
    },
    {
      "cell_type": "code",
      "source": [
        "tao.eyes"
      ],
      "metadata": {
        "colab": {
          "base_uri": "https://localhost:8080/",
          "height": 141
        },
        "id": "4oRzTbUEmyXY",
        "outputId": "7d0a024d-6810-40a8-d2a0-343e33bc9cdd"
      },
      "execution_count": null,
      "outputs": [
        {
          "output_type": "error",
          "ename": "NameError",
          "evalue": "name 'tao' is not defined",
          "traceback": [
            "\u001b[0;31m---------------------------------------------------------------------------\u001b[0m",
            "\u001b[0;31mNameError\u001b[0m                                 Traceback (most recent call last)",
            "\u001b[0;32m<ipython-input-30-e9fcfb80a253>\u001b[0m in \u001b[0;36m<cell line: 1>\u001b[0;34m()\u001b[0m\n\u001b[0;32m----> 1\u001b[0;31m \u001b[0mtao\u001b[0m\u001b[0;34m.\u001b[0m\u001b[0meyes\u001b[0m\u001b[0;34m\u001b[0m\u001b[0;34m\u001b[0m\u001b[0m\n\u001b[0m",
            "\u001b[0;31mNameError\u001b[0m: name 'tao' is not defined"
          ]
        }
      ]
    },
    {
      "cell_type": "markdown",
      "source": [
        "## Aggregation"
      ],
      "metadata": {
        "id": "gs-qg3NbIFd3"
      }
    },
    {
      "cell_type": "code",
      "source": [
        "class Eyes1():\n",
        "  def __init__(self):\n",
        "    self.color = 'brown'\n",
        "\n",
        "class Human1(): #you can also use parenthesis in class definition even without inheritance\n",
        "  def __init__(self, eyes):\n",
        "    self.eyes = eyes"
      ],
      "metadata": {
        "id": "EytL5OXsnFND"
      },
      "execution_count": null,
      "outputs": []
    },
    {
      "cell_type": "code",
      "source": [
        "eyes1 = Eyes1()\n",
        "tao1 = Human1(eyes1)"
      ],
      "metadata": {
        "id": "dvDJGfo7m_2l"
      },
      "execution_count": null,
      "outputs": []
    },
    {
      "cell_type": "code",
      "source": [
        "del tao1"
      ],
      "metadata": {
        "id": "8F4VJgP66wSZ"
      },
      "execution_count": null,
      "outputs": []
    },
    {
      "cell_type": "code",
      "source": [
        "eyes1"
      ],
      "metadata": {
        "colab": {
          "base_uri": "https://localhost:8080/"
        },
        "id": "F2kweQlo6wO1",
        "outputId": "6a2f9513-81d9-4370-b9e5-71c3bf0c5777"
      },
      "execution_count": null,
      "outputs": [
        {
          "output_type": "execute_result",
          "data": {
            "text/plain": [
              "<__main__.Eyes1 at 0x7ba8b993ea40>"
            ]
          },
          "metadata": {},
          "execution_count": 34
        }
      ]
    }
  ]
}